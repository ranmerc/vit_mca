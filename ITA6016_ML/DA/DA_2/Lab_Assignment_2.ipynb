{
  "nbformat": 4,
  "nbformat_minor": 0,
  "metadata": {
    "colab": {
      "provenance": [],
      "collapsed_sections": [
        "ZZw6EWby0oUR",
        "3BmBUsJ6Y41F",
        "OqhBFG48JDO3"
      ]
    },
    "kernelspec": {
      "name": "python3",
      "display_name": "Python 3"
    },
    "language_info": {
      "name": "python"
    }
  },
  "cells": [
    {
      "cell_type": "markdown",
      "source": [
        "**NAME:** KAMRAN ANSARI\n",
        "\n",
        "**REG NO:** 22MCA0223"
      ],
      "metadata": {
        "id": "5_2UD9CxyfMc"
      }
    },
    {
      "cell_type": "markdown",
      "source": [
        "#Question 1\n"
      ],
      "metadata": {
        "id": "ZZw6EWby0oUR"
      }
    },
    {
      "cell_type": "code",
      "source": [
        "import tensorflow as tf\n",
        "import numpy as np\n",
        "from tensorflow.python import data"
      ],
      "metadata": {
        "id": "OXqbe23UKTDe"
      },
      "execution_count": null,
      "outputs": []
    },
    {
      "cell_type": "markdown",
      "source": [
        "##Three Input AND Gate"
      ],
      "metadata": {
        "id": "3BmBUsJ6Y41F"
      }
    },
    {
      "cell_type": "code",
      "source": [
        "X1 = tf.Variable(initial_value=[0.,0.,0.,0.,1.,1.,1.,1.])\n",
        "X2 = tf.Variable(initial_value=[0.,0.,1.,1.,0.,0.,1.,1.])\n",
        "X3 = tf.Variable(initial_value=[0.,1.,0.,1.,0.,1.,0.,1.])\n",
        "\n",
        "Y_3AND = tf.Variable(initial_value=[0.,0.,0.,0.,0.,0.,0.,1.])"
      ],
      "metadata": {
        "id": "ZK2MkU11--jR"
      },
      "execution_count": null,
      "outputs": []
    },
    {
      "cell_type": "code",
      "source": [
        "class Model(object):\n",
        "\n",
        "   def __init__(self):\n",
        "        self.W1 = tf.Variable(initial_value=tf.random.normal([1]))\n",
        "        self.W2 = tf.Variable(initial_value=tf.random.normal([1]))\n",
        "        self.W3 = tf.Variable(initial_value=tf.random.normal([1]))\n",
        "        self.b = tf.Variable(initial_value=tf.random.normal([1]))\n",
        "\n",
        "   def __call__(self, x1,x2,x3):\n",
        "        self.K1 = self.W1 * x1 + self.W2 * x2 + self.W3 * x3 + self.b\n",
        "        self.Output = tf.keras.activations.sigmoid(self.K1)\n",
        "        return(self.Output)\n",
        "\n",
        "model = Model()"
      ],
      "metadata": {
        "id": "qaF-vUK8B4HH"
      },
      "execution_count": null,
      "outputs": []
    },
    {
      "cell_type": "code",
      "source": [
        "def compute_cost(target_y, predicted_y):\n",
        "    c=tf.keras.losses.BinaryCrossentropy()\n",
        "    return(c(target_y,predicted_y))\n",
        "\n",
        "def None_to_Zero(v):\n",
        "  ret = []\n",
        "\n",
        "  for e in v:\n",
        "    if e == None:\n",
        "        ret.append(0)\n",
        "    else:\n",
        "      ret.append(e)\n",
        "\n",
        "  return tuple(ret)"
      ],
      "metadata": {
        "id": "7HwX_MWqJa0g"
      },
      "execution_count": null,
      "outputs": []
    },
    {
      "cell_type": "code",
      "source": [
        "def train(model, X1, X2, X3, Y2, learning_rate):\n",
        "    with tf.GradientTape() as t:\n",
        "            current_loss = compute_cost(Y2,model(X1,X2,X3))\n",
        "    dW1, dW2, dW3, db = None_to_Zero(t.gradient(current_loss,[model.W1,model.W2,model.W3,model.b]))\n",
        "\n",
        "    model.W1.assign_sub(learning_rate * dW1)\n",
        "    model.W2.assign_sub(learning_rate * dW2)\n",
        "    model.W3.assign_sub(learning_rate * dW3)\n",
        "    model.b.assign_sub(learning_rate * db)"
      ],
      "metadata": {
        "id": "ZXdaLQUKCikp"
      },
      "execution_count": null,
      "outputs": []
    },
    {
      "cell_type": "code",
      "source": [
        "epochs = range(1000)\n",
        "\n",
        "learning_rate = 0.1\n",
        "\n",
        "for epoch in epochs:\n",
        "    train(model, X1, X2, X3, Y_3AND, learning_rate)\n",
        "\n",
        "print(np.round(model(X1, X2, X3).numpy()))"
      ],
      "metadata": {
        "colab": {
          "base_uri": "https://localhost:8080/"
        },
        "id": "S71wX8GxBlSF",
        "outputId": "c92b8829-2175-4ef8-b1d6-b7c3ba754da7"
      },
      "execution_count": null,
      "outputs": [
        {
          "output_type": "stream",
          "name": "stdout",
          "text": [
            "[0. 0. 0. 0. 0. 0. 0. 1.]\n"
          ]
        }
      ]
    },
    {
      "cell_type": "code",
      "source": [
        "W_3AND = {'W1':model.W1.numpy(),'W2':model.W2.numpy(),'W3':model.W3.numpy(),'b':model.b.numpy()}\n",
        "W_3AND"
      ],
      "metadata": {
        "id": "WAYSvEiWFCbC",
        "colab": {
          "base_uri": "https://localhost:8080/"
        },
        "outputId": "2233f598-39da-4364-eedf-48fa6e9306e9"
      },
      "execution_count": null,
      "outputs": [
        {
          "output_type": "execute_result",
          "data": {
            "text/plain": [
              "{'W1': array([2.9475274], dtype=float32),\n",
              " 'W2': array([2.946202], dtype=float32),\n",
              " 'W3': array([2.9462547], dtype=float32),\n",
              " 'b': array([-7.9043264], dtype=float32)}"
            ]
          },
          "metadata": {},
          "execution_count": 48
        }
      ]
    },
    {
      "cell_type": "markdown",
      "source": [
        "##NAND"
      ],
      "metadata": {
        "id": "OqhBFG48JDO3"
      }
    },
    {
      "cell_type": "code",
      "source": [
        "X1=tf.Variable(initial_value=[0.,1.,0.,1.])\n",
        "X2=tf.Variable(initial_value=[0.,0.,1.,1.])\n",
        "\n",
        "Y_NAND=tf.Variable(initial_value=[1.,1.,1.,0.])"
      ],
      "metadata": {
        "id": "RnCWXcGdJFHs"
      },
      "execution_count": null,
      "outputs": []
    },
    {
      "cell_type": "code",
      "source": [
        "class Model(object):\n",
        "\n",
        "   def __init__(self):\n",
        "        self.W1 = tf.Variable(2.)\n",
        "        self.W2 = tf.Variable(2.)\n",
        "        self.b = tf.Variable(2.)\n",
        "\n",
        "   def __call__(self, x1,x2):\n",
        "        self.K1 = self.W1 * x1 + self.W2 * x2 + self.b\n",
        "        self.Output = tf.keras.activations.sigmoid(self.K1)\n",
        "        return(self.Output)\n",
        "\n",
        "model = Model()"
      ],
      "metadata": {
        "id": "NLg2K_ssJQf-"
      },
      "execution_count": null,
      "outputs": []
    },
    {
      "cell_type": "code",
      "source": [
        "def train(model, X1, X2, Y2, learning_rate):\n",
        "    with tf.GradientTape() as t:\n",
        "            current_loss = compute_cost(Y2,model(X1,X2))\n",
        "    dW1,dW2,db = None_to_Zero(t.gradient(current_loss,[model.W1,model.W2,model.b]))\n",
        "\n",
        "    model.W1.assign_sub(learning_rate * dW1)\n",
        "    model.W2.assign_sub(learning_rate * dW2)\n",
        "    model.b.assign_sub(learning_rate * db)"
      ],
      "metadata": {
        "id": "Z21PyunFJm09"
      },
      "execution_count": null,
      "outputs": []
    },
    {
      "cell_type": "code",
      "source": [
        "epochs = range(1000)\n",
        "\n",
        "learning_rate=0.1\n",
        "\n",
        "for epoch in epochs:\n",
        "    train(model, X1, X2,Y_NAND, learning_rate)\n",
        "\n",
        "print(np.round(model(X1, X2).numpy()))"
      ],
      "metadata": {
        "colab": {
          "base_uri": "https://localhost:8080/"
        },
        "id": "Oh4NgO3GJvaY",
        "outputId": "264c0c7a-2f8c-4600-ba0a-97582dab2200"
      },
      "execution_count": null,
      "outputs": [
        {
          "output_type": "stream",
          "name": "stdout",
          "text": [
            "[1. 1. 1. 0.]\n"
          ]
        }
      ]
    },
    {
      "cell_type": "code",
      "source": [
        "W_NAND={'W1':model.W1.numpy(),'W2':model.W2.numpy(),'b':model.b.numpy()}\n",
        "W_NAND"
      ],
      "metadata": {
        "id": "PnJEJfQvJv_y",
        "colab": {
          "base_uri": "https://localhost:8080/"
        },
        "outputId": "90281471-53b4-4eca-df72-d306fd05a289"
      },
      "execution_count": null,
      "outputs": [
        {
          "output_type": "execute_result",
          "data": {
            "text/plain": [
              "{'W1': -2.9350576, 'W2': -2.9350576, 'b': 4.623217}"
            ]
          },
          "metadata": {},
          "execution_count": 53
        }
      ]
    },
    {
      "cell_type": "markdown",
      "source": [
        "#Question 2\n"
      ],
      "metadata": {
        "id": "PTGzw7_KKw6g"
      }
    },
    {
      "cell_type": "code",
      "source": [
        "import pandas as pd\n",
        "import numpy as np\n",
        "import os\n",
        "\n",
        "# Plotting libraries\n",
        "import matplotlib.pyplot as plt\n",
        "\n",
        "\n",
        "# SKLearn libraries\n",
        "from sklearn.preprocessing import LabelEncoder\n",
        "from sklearn.model_selection import train_test_split\n",
        "\n",
        "# Tensorflow libraries\n",
        "import tensorflow as tf\n",
        "from tensorflow import keras\n",
        "from tensorflow.keras.models import Sequential\n",
        "from tensorflow.keras.layers import BatchNormalization"
      ],
      "metadata": {
        "id": "dxmK5w7UKw6i"
      },
      "execution_count": null,
      "outputs": []
    },
    {
      "cell_type": "code",
      "source": [
        "# Data file path\n",
        "FILE_PATH = '/content/penguins.csv'\n",
        "\n",
        "# Dataframe from csv file\n",
        "data = pd.read_csv(FILE_PATH)"
      ],
      "metadata": {
        "id": "yJmQWHNWLaj2"
      },
      "execution_count": null,
      "outputs": []
    },
    {
      "cell_type": "markdown",
      "source": [
        "##Preprocessing"
      ],
      "metadata": {
        "id": "uixpohXxMQPw"
      }
    },
    {
      "cell_type": "code",
      "source": [
        "data.info()"
      ],
      "metadata": {
        "colab": {
          "base_uri": "https://localhost:8080/"
        },
        "id": "RVc3QHpCLnem",
        "outputId": "435197c2-288b-4e2e-9b0b-61e244b38f01"
      },
      "execution_count": null,
      "outputs": [
        {
          "output_type": "stream",
          "name": "stdout",
          "text": [
            "<class 'pandas.core.frame.DataFrame'>\n",
            "RangeIndex: 344 entries, 0 to 343\n",
            "Data columns (total 7 columns):\n",
            " #   Column             Non-Null Count  Dtype  \n",
            "---  ------             --------------  -----  \n",
            " 0   species            344 non-null    object \n",
            " 1   island             344 non-null    object \n",
            " 2   culmen_length_mm   342 non-null    float64\n",
            " 3   culmen_depth_mm    342 non-null    float64\n",
            " 4   flipper_length_mm  342 non-null    float64\n",
            " 5   body_mass_g        342 non-null    float64\n",
            " 6   sex                334 non-null    object \n",
            "dtypes: float64(4), object(3)\n",
            "memory usage: 18.9+ KB\n"
          ]
        }
      ]
    },
    {
      "cell_type": "code",
      "source": [
        "data.head(10)"
      ],
      "metadata": {
        "colab": {
          "base_uri": "https://localhost:8080/",
          "height": 363
        },
        "id": "6fTJzJoPNnaX",
        "outputId": "b52dd30f-37a9-48e5-ec4d-f9d9b891d0da"
      },
      "execution_count": null,
      "outputs": [
        {
          "output_type": "execute_result",
          "data": {
            "text/plain": [
              "  species     island  culmen_length_mm  culmen_depth_mm  flipper_length_mm  \\\n",
              "0  Adelie  Torgersen              39.1             18.7              181.0   \n",
              "1  Adelie  Torgersen              39.5             17.4              186.0   \n",
              "2  Adelie  Torgersen              40.3             18.0              195.0   \n",
              "3  Adelie  Torgersen               NaN              NaN                NaN   \n",
              "4  Adelie  Torgersen              36.7             19.3              193.0   \n",
              "5  Adelie  Torgersen              39.3             20.6              190.0   \n",
              "6  Adelie  Torgersen              38.9             17.8              181.0   \n",
              "7  Adelie  Torgersen              39.2             19.6              195.0   \n",
              "8  Adelie  Torgersen              34.1             18.1              193.0   \n",
              "9  Adelie  Torgersen              42.0             20.2              190.0   \n",
              "\n",
              "   body_mass_g     sex  \n",
              "0       3750.0    MALE  \n",
              "1       3800.0  FEMALE  \n",
              "2       3250.0  FEMALE  \n",
              "3          NaN     NaN  \n",
              "4       3450.0  FEMALE  \n",
              "5       3650.0    MALE  \n",
              "6       3625.0  FEMALE  \n",
              "7       4675.0    MALE  \n",
              "8       3475.0     NaN  \n",
              "9       4250.0     NaN  "
            ],
            "text/html": [
              "\n",
              "\n",
              "  <div id=\"df-e84a1f3a-c676-48ca-adf3-6452b483718e\">\n",
              "    <div class=\"colab-df-container\">\n",
              "      <div>\n",
              "<style scoped>\n",
              "    .dataframe tbody tr th:only-of-type {\n",
              "        vertical-align: middle;\n",
              "    }\n",
              "\n",
              "    .dataframe tbody tr th {\n",
              "        vertical-align: top;\n",
              "    }\n",
              "\n",
              "    .dataframe thead th {\n",
              "        text-align: right;\n",
              "    }\n",
              "</style>\n",
              "<table border=\"1\" class=\"dataframe\">\n",
              "  <thead>\n",
              "    <tr style=\"text-align: right;\">\n",
              "      <th></th>\n",
              "      <th>species</th>\n",
              "      <th>island</th>\n",
              "      <th>culmen_length_mm</th>\n",
              "      <th>culmen_depth_mm</th>\n",
              "      <th>flipper_length_mm</th>\n",
              "      <th>body_mass_g</th>\n",
              "      <th>sex</th>\n",
              "    </tr>\n",
              "  </thead>\n",
              "  <tbody>\n",
              "    <tr>\n",
              "      <th>0</th>\n",
              "      <td>Adelie</td>\n",
              "      <td>Torgersen</td>\n",
              "      <td>39.1</td>\n",
              "      <td>18.7</td>\n",
              "      <td>181.0</td>\n",
              "      <td>3750.0</td>\n",
              "      <td>MALE</td>\n",
              "    </tr>\n",
              "    <tr>\n",
              "      <th>1</th>\n",
              "      <td>Adelie</td>\n",
              "      <td>Torgersen</td>\n",
              "      <td>39.5</td>\n",
              "      <td>17.4</td>\n",
              "      <td>186.0</td>\n",
              "      <td>3800.0</td>\n",
              "      <td>FEMALE</td>\n",
              "    </tr>\n",
              "    <tr>\n",
              "      <th>2</th>\n",
              "      <td>Adelie</td>\n",
              "      <td>Torgersen</td>\n",
              "      <td>40.3</td>\n",
              "      <td>18.0</td>\n",
              "      <td>195.0</td>\n",
              "      <td>3250.0</td>\n",
              "      <td>FEMALE</td>\n",
              "    </tr>\n",
              "    <tr>\n",
              "      <th>3</th>\n",
              "      <td>Adelie</td>\n",
              "      <td>Torgersen</td>\n",
              "      <td>NaN</td>\n",
              "      <td>NaN</td>\n",
              "      <td>NaN</td>\n",
              "      <td>NaN</td>\n",
              "      <td>NaN</td>\n",
              "    </tr>\n",
              "    <tr>\n",
              "      <th>4</th>\n",
              "      <td>Adelie</td>\n",
              "      <td>Torgersen</td>\n",
              "      <td>36.7</td>\n",
              "      <td>19.3</td>\n",
              "      <td>193.0</td>\n",
              "      <td>3450.0</td>\n",
              "      <td>FEMALE</td>\n",
              "    </tr>\n",
              "    <tr>\n",
              "      <th>5</th>\n",
              "      <td>Adelie</td>\n",
              "      <td>Torgersen</td>\n",
              "      <td>39.3</td>\n",
              "      <td>20.6</td>\n",
              "      <td>190.0</td>\n",
              "      <td>3650.0</td>\n",
              "      <td>MALE</td>\n",
              "    </tr>\n",
              "    <tr>\n",
              "      <th>6</th>\n",
              "      <td>Adelie</td>\n",
              "      <td>Torgersen</td>\n",
              "      <td>38.9</td>\n",
              "      <td>17.8</td>\n",
              "      <td>181.0</td>\n",
              "      <td>3625.0</td>\n",
              "      <td>FEMALE</td>\n",
              "    </tr>\n",
              "    <tr>\n",
              "      <th>7</th>\n",
              "      <td>Adelie</td>\n",
              "      <td>Torgersen</td>\n",
              "      <td>39.2</td>\n",
              "      <td>19.6</td>\n",
              "      <td>195.0</td>\n",
              "      <td>4675.0</td>\n",
              "      <td>MALE</td>\n",
              "    </tr>\n",
              "    <tr>\n",
              "      <th>8</th>\n",
              "      <td>Adelie</td>\n",
              "      <td>Torgersen</td>\n",
              "      <td>34.1</td>\n",
              "      <td>18.1</td>\n",
              "      <td>193.0</td>\n",
              "      <td>3475.0</td>\n",
              "      <td>NaN</td>\n",
              "    </tr>\n",
              "    <tr>\n",
              "      <th>9</th>\n",
              "      <td>Adelie</td>\n",
              "      <td>Torgersen</td>\n",
              "      <td>42.0</td>\n",
              "      <td>20.2</td>\n",
              "      <td>190.0</td>\n",
              "      <td>4250.0</td>\n",
              "      <td>NaN</td>\n",
              "    </tr>\n",
              "  </tbody>\n",
              "</table>\n",
              "</div>\n",
              "      <button class=\"colab-df-convert\" onclick=\"convertToInteractive('df-e84a1f3a-c676-48ca-adf3-6452b483718e')\"\n",
              "              title=\"Convert this dataframe to an interactive table.\"\n",
              "              style=\"display:none;\">\n",
              "\n",
              "  <svg xmlns=\"http://www.w3.org/2000/svg\" height=\"24px\"viewBox=\"0 0 24 24\"\n",
              "       width=\"24px\">\n",
              "    <path d=\"M0 0h24v24H0V0z\" fill=\"none\"/>\n",
              "    <path d=\"M18.56 5.44l.94 2.06.94-2.06 2.06-.94-2.06-.94-.94-2.06-.94 2.06-2.06.94zm-11 1L8.5 8.5l.94-2.06 2.06-.94-2.06-.94L8.5 2.5l-.94 2.06-2.06.94zm10 10l.94 2.06.94-2.06 2.06-.94-2.06-.94-.94-2.06-.94 2.06-2.06.94z\"/><path d=\"M17.41 7.96l-1.37-1.37c-.4-.4-.92-.59-1.43-.59-.52 0-1.04.2-1.43.59L10.3 9.45l-7.72 7.72c-.78.78-.78 2.05 0 2.83L4 21.41c.39.39.9.59 1.41.59.51 0 1.02-.2 1.41-.59l7.78-7.78 2.81-2.81c.8-.78.8-2.07 0-2.86zM5.41 20L4 18.59l7.72-7.72 1.47 1.35L5.41 20z\"/>\n",
              "  </svg>\n",
              "      </button>\n",
              "\n",
              "\n",
              "\n",
              "    <div id=\"df-7a6df99e-9b3f-470f-9d7e-d9ff77133c8d\">\n",
              "      <button class=\"colab-df-quickchart\" onclick=\"quickchart('df-7a6df99e-9b3f-470f-9d7e-d9ff77133c8d')\"\n",
              "              title=\"Suggest charts.\"\n",
              "              style=\"display:none;\">\n",
              "\n",
              "<svg xmlns=\"http://www.w3.org/2000/svg\" height=\"24px\"viewBox=\"0 0 24 24\"\n",
              "     width=\"24px\">\n",
              "    <g>\n",
              "        <path d=\"M19 3H5c-1.1 0-2 .9-2 2v14c0 1.1.9 2 2 2h14c1.1 0 2-.9 2-2V5c0-1.1-.9-2-2-2zM9 17H7v-7h2v7zm4 0h-2V7h2v10zm4 0h-2v-4h2v4z\"/>\n",
              "    </g>\n",
              "</svg>\n",
              "      </button>\n",
              "    </div>\n",
              "\n",
              "<style>\n",
              "  .colab-df-quickchart {\n",
              "    background-color: #E8F0FE;\n",
              "    border: none;\n",
              "    border-radius: 50%;\n",
              "    cursor: pointer;\n",
              "    display: none;\n",
              "    fill: #1967D2;\n",
              "    height: 32px;\n",
              "    padding: 0 0 0 0;\n",
              "    width: 32px;\n",
              "  }\n",
              "\n",
              "  .colab-df-quickchart:hover {\n",
              "    background-color: #E2EBFA;\n",
              "    box-shadow: 0px 1px 2px rgba(60, 64, 67, 0.3), 0px 1px 3px 1px rgba(60, 64, 67, 0.15);\n",
              "    fill: #174EA6;\n",
              "  }\n",
              "\n",
              "  [theme=dark] .colab-df-quickchart {\n",
              "    background-color: #3B4455;\n",
              "    fill: #D2E3FC;\n",
              "  }\n",
              "\n",
              "  [theme=dark] .colab-df-quickchart:hover {\n",
              "    background-color: #434B5C;\n",
              "    box-shadow: 0px 1px 3px 1px rgba(0, 0, 0, 0.15);\n",
              "    filter: drop-shadow(0px 1px 2px rgba(0, 0, 0, 0.3));\n",
              "    fill: #FFFFFF;\n",
              "  }\n",
              "</style>\n",
              "\n",
              "    <script>\n",
              "      async function quickchart(key) {\n",
              "        const containerElement = document.querySelector('#' + key);\n",
              "        const charts = await google.colab.kernel.invokeFunction(\n",
              "            'suggestCharts', [key], {});\n",
              "      }\n",
              "    </script>\n",
              "\n",
              "      <script>\n",
              "\n",
              "function displayQuickchartButton(domScope) {\n",
              "  let quickchartButtonEl =\n",
              "    domScope.querySelector('#df-7a6df99e-9b3f-470f-9d7e-d9ff77133c8d button.colab-df-quickchart');\n",
              "  quickchartButtonEl.style.display =\n",
              "    google.colab.kernel.accessAllowed ? 'block' : 'none';\n",
              "}\n",
              "\n",
              "        displayQuickchartButton(document);\n",
              "      </script>\n",
              "      <style>\n",
              "    .colab-df-container {\n",
              "      display:flex;\n",
              "      flex-wrap:wrap;\n",
              "      gap: 12px;\n",
              "    }\n",
              "\n",
              "    .colab-df-convert {\n",
              "      background-color: #E8F0FE;\n",
              "      border: none;\n",
              "      border-radius: 50%;\n",
              "      cursor: pointer;\n",
              "      display: none;\n",
              "      fill: #1967D2;\n",
              "      height: 32px;\n",
              "      padding: 0 0 0 0;\n",
              "      width: 32px;\n",
              "    }\n",
              "\n",
              "    .colab-df-convert:hover {\n",
              "      background-color: #E2EBFA;\n",
              "      box-shadow: 0px 1px 2px rgba(60, 64, 67, 0.3), 0px 1px 3px 1px rgba(60, 64, 67, 0.15);\n",
              "      fill: #174EA6;\n",
              "    }\n",
              "\n",
              "    [theme=dark] .colab-df-convert {\n",
              "      background-color: #3B4455;\n",
              "      fill: #D2E3FC;\n",
              "    }\n",
              "\n",
              "    [theme=dark] .colab-df-convert:hover {\n",
              "      background-color: #434B5C;\n",
              "      box-shadow: 0px 1px 3px 1px rgba(0, 0, 0, 0.15);\n",
              "      filter: drop-shadow(0px 1px 2px rgba(0, 0, 0, 0.3));\n",
              "      fill: #FFFFFF;\n",
              "    }\n",
              "  </style>\n",
              "\n",
              "      <script>\n",
              "        const buttonEl =\n",
              "          document.querySelector('#df-e84a1f3a-c676-48ca-adf3-6452b483718e button.colab-df-convert');\n",
              "        buttonEl.style.display =\n",
              "          google.colab.kernel.accessAllowed ? 'block' : 'none';\n",
              "\n",
              "        async function convertToInteractive(key) {\n",
              "          const element = document.querySelector('#df-e84a1f3a-c676-48ca-adf3-6452b483718e');\n",
              "          const dataTable =\n",
              "            await google.colab.kernel.invokeFunction('convertToInteractive',\n",
              "                                                     [key], {});\n",
              "          if (!dataTable) return;\n",
              "\n",
              "          const docLinkHtml = 'Like what you see? Visit the ' +\n",
              "            '<a target=\"_blank\" href=https://colab.research.google.com/notebooks/data_table.ipynb>data table notebook</a>'\n",
              "            + ' to learn more about interactive tables.';\n",
              "          element.innerHTML = '';\n",
              "          dataTable['output_type'] = 'display_data';\n",
              "          await google.colab.output.renderOutput(dataTable, element);\n",
              "          const docLink = document.createElement('div');\n",
              "          docLink.innerHTML = docLinkHtml;\n",
              "          element.appendChild(docLink);\n",
              "        }\n",
              "      </script>\n",
              "    </div>\n",
              "  </div>\n"
            ]
          },
          "metadata": {},
          "execution_count": 57
        }
      ]
    },
    {
      "cell_type": "code",
      "source": [
        "data = data.dropna()\n",
        "data = data[data['sex'] != '.']"
      ],
      "metadata": {
        "id": "HUrxeWz8L13-"
      },
      "execution_count": null,
      "outputs": []
    },
    {
      "cell_type": "markdown",
      "source": [
        "##Preparing dataset"
      ],
      "metadata": {
        "id": "vkQS8-1aMWqo"
      }
    },
    {
      "cell_type": "code",
      "source": [
        "one_hot_encoded = pd.get_dummies(data[['sex', 'island']])\n",
        "data.drop(['island', 'sex'], axis=1, inplace=True)\n",
        "data = pd.concat([data, one_hot_encoded], axis=1)\n",
        "data"
      ],
      "metadata": {
        "colab": {
          "base_uri": "https://localhost:8080/",
          "height": 423
        },
        "id": "0JMNOHkBOhD4",
        "outputId": "bc0ab520-b13f-4769-d2b6-8950dc719a0b"
      },
      "execution_count": null,
      "outputs": [
        {
          "output_type": "execute_result",
          "data": {
            "text/plain": [
              "    species  culmen_length_mm  culmen_depth_mm  flipper_length_mm  \\\n",
              "0    Adelie              39.1             18.7              181.0   \n",
              "1    Adelie              39.5             17.4              186.0   \n",
              "2    Adelie              40.3             18.0              195.0   \n",
              "4    Adelie              36.7             19.3              193.0   \n",
              "5    Adelie              39.3             20.6              190.0   \n",
              "..      ...               ...              ...                ...   \n",
              "338  Gentoo              47.2             13.7              214.0   \n",
              "340  Gentoo              46.8             14.3              215.0   \n",
              "341  Gentoo              50.4             15.7              222.0   \n",
              "342  Gentoo              45.2             14.8              212.0   \n",
              "343  Gentoo              49.9             16.1              213.0   \n",
              "\n",
              "     body_mass_g  sex_FEMALE  sex_MALE  island_Biscoe  island_Dream  \\\n",
              "0         3750.0           0         1              0             0   \n",
              "1         3800.0           1         0              0             0   \n",
              "2         3250.0           1         0              0             0   \n",
              "4         3450.0           1         0              0             0   \n",
              "5         3650.0           0         1              0             0   \n",
              "..           ...         ...       ...            ...           ...   \n",
              "338       4925.0           1         0              1             0   \n",
              "340       4850.0           1         0              1             0   \n",
              "341       5750.0           0         1              1             0   \n",
              "342       5200.0           1         0              1             0   \n",
              "343       5400.0           0         1              1             0   \n",
              "\n",
              "     island_Torgersen  \n",
              "0                   1  \n",
              "1                   1  \n",
              "2                   1  \n",
              "4                   1  \n",
              "5                   1  \n",
              "..                ...  \n",
              "338                 0  \n",
              "340                 0  \n",
              "341                 0  \n",
              "342                 0  \n",
              "343                 0  \n",
              "\n",
              "[333 rows x 10 columns]"
            ],
            "text/html": [
              "\n",
              "\n",
              "  <div id=\"df-26595bc5-2d46-4111-b67f-4c5c9b73201a\">\n",
              "    <div class=\"colab-df-container\">\n",
              "      <div>\n",
              "<style scoped>\n",
              "    .dataframe tbody tr th:only-of-type {\n",
              "        vertical-align: middle;\n",
              "    }\n",
              "\n",
              "    .dataframe tbody tr th {\n",
              "        vertical-align: top;\n",
              "    }\n",
              "\n",
              "    .dataframe thead th {\n",
              "        text-align: right;\n",
              "    }\n",
              "</style>\n",
              "<table border=\"1\" class=\"dataframe\">\n",
              "  <thead>\n",
              "    <tr style=\"text-align: right;\">\n",
              "      <th></th>\n",
              "      <th>species</th>\n",
              "      <th>culmen_length_mm</th>\n",
              "      <th>culmen_depth_mm</th>\n",
              "      <th>flipper_length_mm</th>\n",
              "      <th>body_mass_g</th>\n",
              "      <th>sex_FEMALE</th>\n",
              "      <th>sex_MALE</th>\n",
              "      <th>island_Biscoe</th>\n",
              "      <th>island_Dream</th>\n",
              "      <th>island_Torgersen</th>\n",
              "    </tr>\n",
              "  </thead>\n",
              "  <tbody>\n",
              "    <tr>\n",
              "      <th>0</th>\n",
              "      <td>Adelie</td>\n",
              "      <td>39.1</td>\n",
              "      <td>18.7</td>\n",
              "      <td>181.0</td>\n",
              "      <td>3750.0</td>\n",
              "      <td>0</td>\n",
              "      <td>1</td>\n",
              "      <td>0</td>\n",
              "      <td>0</td>\n",
              "      <td>1</td>\n",
              "    </tr>\n",
              "    <tr>\n",
              "      <th>1</th>\n",
              "      <td>Adelie</td>\n",
              "      <td>39.5</td>\n",
              "      <td>17.4</td>\n",
              "      <td>186.0</td>\n",
              "      <td>3800.0</td>\n",
              "      <td>1</td>\n",
              "      <td>0</td>\n",
              "      <td>0</td>\n",
              "      <td>0</td>\n",
              "      <td>1</td>\n",
              "    </tr>\n",
              "    <tr>\n",
              "      <th>2</th>\n",
              "      <td>Adelie</td>\n",
              "      <td>40.3</td>\n",
              "      <td>18.0</td>\n",
              "      <td>195.0</td>\n",
              "      <td>3250.0</td>\n",
              "      <td>1</td>\n",
              "      <td>0</td>\n",
              "      <td>0</td>\n",
              "      <td>0</td>\n",
              "      <td>1</td>\n",
              "    </tr>\n",
              "    <tr>\n",
              "      <th>4</th>\n",
              "      <td>Adelie</td>\n",
              "      <td>36.7</td>\n",
              "      <td>19.3</td>\n",
              "      <td>193.0</td>\n",
              "      <td>3450.0</td>\n",
              "      <td>1</td>\n",
              "      <td>0</td>\n",
              "      <td>0</td>\n",
              "      <td>0</td>\n",
              "      <td>1</td>\n",
              "    </tr>\n",
              "    <tr>\n",
              "      <th>5</th>\n",
              "      <td>Adelie</td>\n",
              "      <td>39.3</td>\n",
              "      <td>20.6</td>\n",
              "      <td>190.0</td>\n",
              "      <td>3650.0</td>\n",
              "      <td>0</td>\n",
              "      <td>1</td>\n",
              "      <td>0</td>\n",
              "      <td>0</td>\n",
              "      <td>1</td>\n",
              "    </tr>\n",
              "    <tr>\n",
              "      <th>...</th>\n",
              "      <td>...</td>\n",
              "      <td>...</td>\n",
              "      <td>...</td>\n",
              "      <td>...</td>\n",
              "      <td>...</td>\n",
              "      <td>...</td>\n",
              "      <td>...</td>\n",
              "      <td>...</td>\n",
              "      <td>...</td>\n",
              "      <td>...</td>\n",
              "    </tr>\n",
              "    <tr>\n",
              "      <th>338</th>\n",
              "      <td>Gentoo</td>\n",
              "      <td>47.2</td>\n",
              "      <td>13.7</td>\n",
              "      <td>214.0</td>\n",
              "      <td>4925.0</td>\n",
              "      <td>1</td>\n",
              "      <td>0</td>\n",
              "      <td>1</td>\n",
              "      <td>0</td>\n",
              "      <td>0</td>\n",
              "    </tr>\n",
              "    <tr>\n",
              "      <th>340</th>\n",
              "      <td>Gentoo</td>\n",
              "      <td>46.8</td>\n",
              "      <td>14.3</td>\n",
              "      <td>215.0</td>\n",
              "      <td>4850.0</td>\n",
              "      <td>1</td>\n",
              "      <td>0</td>\n",
              "      <td>1</td>\n",
              "      <td>0</td>\n",
              "      <td>0</td>\n",
              "    </tr>\n",
              "    <tr>\n",
              "      <th>341</th>\n",
              "      <td>Gentoo</td>\n",
              "      <td>50.4</td>\n",
              "      <td>15.7</td>\n",
              "      <td>222.0</td>\n",
              "      <td>5750.0</td>\n",
              "      <td>0</td>\n",
              "      <td>1</td>\n",
              "      <td>1</td>\n",
              "      <td>0</td>\n",
              "      <td>0</td>\n",
              "    </tr>\n",
              "    <tr>\n",
              "      <th>342</th>\n",
              "      <td>Gentoo</td>\n",
              "      <td>45.2</td>\n",
              "      <td>14.8</td>\n",
              "      <td>212.0</td>\n",
              "      <td>5200.0</td>\n",
              "      <td>1</td>\n",
              "      <td>0</td>\n",
              "      <td>1</td>\n",
              "      <td>0</td>\n",
              "      <td>0</td>\n",
              "    </tr>\n",
              "    <tr>\n",
              "      <th>343</th>\n",
              "      <td>Gentoo</td>\n",
              "      <td>49.9</td>\n",
              "      <td>16.1</td>\n",
              "      <td>213.0</td>\n",
              "      <td>5400.0</td>\n",
              "      <td>0</td>\n",
              "      <td>1</td>\n",
              "      <td>1</td>\n",
              "      <td>0</td>\n",
              "      <td>0</td>\n",
              "    </tr>\n",
              "  </tbody>\n",
              "</table>\n",
              "<p>333 rows × 10 columns</p>\n",
              "</div>\n",
              "      <button class=\"colab-df-convert\" onclick=\"convertToInteractive('df-26595bc5-2d46-4111-b67f-4c5c9b73201a')\"\n",
              "              title=\"Convert this dataframe to an interactive table.\"\n",
              "              style=\"display:none;\">\n",
              "\n",
              "  <svg xmlns=\"http://www.w3.org/2000/svg\" height=\"24px\"viewBox=\"0 0 24 24\"\n",
              "       width=\"24px\">\n",
              "    <path d=\"M0 0h24v24H0V0z\" fill=\"none\"/>\n",
              "    <path d=\"M18.56 5.44l.94 2.06.94-2.06 2.06-.94-2.06-.94-.94-2.06-.94 2.06-2.06.94zm-11 1L8.5 8.5l.94-2.06 2.06-.94-2.06-.94L8.5 2.5l-.94 2.06-2.06.94zm10 10l.94 2.06.94-2.06 2.06-.94-2.06-.94-.94-2.06-.94 2.06-2.06.94z\"/><path d=\"M17.41 7.96l-1.37-1.37c-.4-.4-.92-.59-1.43-.59-.52 0-1.04.2-1.43.59L10.3 9.45l-7.72 7.72c-.78.78-.78 2.05 0 2.83L4 21.41c.39.39.9.59 1.41.59.51 0 1.02-.2 1.41-.59l7.78-7.78 2.81-2.81c.8-.78.8-2.07 0-2.86zM5.41 20L4 18.59l7.72-7.72 1.47 1.35L5.41 20z\"/>\n",
              "  </svg>\n",
              "      </button>\n",
              "\n",
              "\n",
              "\n",
              "    <div id=\"df-459ef08f-40a0-4e2c-9091-2813076da49e\">\n",
              "      <button class=\"colab-df-quickchart\" onclick=\"quickchart('df-459ef08f-40a0-4e2c-9091-2813076da49e')\"\n",
              "              title=\"Suggest charts.\"\n",
              "              style=\"display:none;\">\n",
              "\n",
              "<svg xmlns=\"http://www.w3.org/2000/svg\" height=\"24px\"viewBox=\"0 0 24 24\"\n",
              "     width=\"24px\">\n",
              "    <g>\n",
              "        <path d=\"M19 3H5c-1.1 0-2 .9-2 2v14c0 1.1.9 2 2 2h14c1.1 0 2-.9 2-2V5c0-1.1-.9-2-2-2zM9 17H7v-7h2v7zm4 0h-2V7h2v10zm4 0h-2v-4h2v4z\"/>\n",
              "    </g>\n",
              "</svg>\n",
              "      </button>\n",
              "    </div>\n",
              "\n",
              "<style>\n",
              "  .colab-df-quickchart {\n",
              "    background-color: #E8F0FE;\n",
              "    border: none;\n",
              "    border-radius: 50%;\n",
              "    cursor: pointer;\n",
              "    display: none;\n",
              "    fill: #1967D2;\n",
              "    height: 32px;\n",
              "    padding: 0 0 0 0;\n",
              "    width: 32px;\n",
              "  }\n",
              "\n",
              "  .colab-df-quickchart:hover {\n",
              "    background-color: #E2EBFA;\n",
              "    box-shadow: 0px 1px 2px rgba(60, 64, 67, 0.3), 0px 1px 3px 1px rgba(60, 64, 67, 0.15);\n",
              "    fill: #174EA6;\n",
              "  }\n",
              "\n",
              "  [theme=dark] .colab-df-quickchart {\n",
              "    background-color: #3B4455;\n",
              "    fill: #D2E3FC;\n",
              "  }\n",
              "\n",
              "  [theme=dark] .colab-df-quickchart:hover {\n",
              "    background-color: #434B5C;\n",
              "    box-shadow: 0px 1px 3px 1px rgba(0, 0, 0, 0.15);\n",
              "    filter: drop-shadow(0px 1px 2px rgba(0, 0, 0, 0.3));\n",
              "    fill: #FFFFFF;\n",
              "  }\n",
              "</style>\n",
              "\n",
              "    <script>\n",
              "      async function quickchart(key) {\n",
              "        const containerElement = document.querySelector('#' + key);\n",
              "        const charts = await google.colab.kernel.invokeFunction(\n",
              "            'suggestCharts', [key], {});\n",
              "      }\n",
              "    </script>\n",
              "\n",
              "      <script>\n",
              "\n",
              "function displayQuickchartButton(domScope) {\n",
              "  let quickchartButtonEl =\n",
              "    domScope.querySelector('#df-459ef08f-40a0-4e2c-9091-2813076da49e button.colab-df-quickchart');\n",
              "  quickchartButtonEl.style.display =\n",
              "    google.colab.kernel.accessAllowed ? 'block' : 'none';\n",
              "}\n",
              "\n",
              "        displayQuickchartButton(document);\n",
              "      </script>\n",
              "      <style>\n",
              "    .colab-df-container {\n",
              "      display:flex;\n",
              "      flex-wrap:wrap;\n",
              "      gap: 12px;\n",
              "    }\n",
              "\n",
              "    .colab-df-convert {\n",
              "      background-color: #E8F0FE;\n",
              "      border: none;\n",
              "      border-radius: 50%;\n",
              "      cursor: pointer;\n",
              "      display: none;\n",
              "      fill: #1967D2;\n",
              "      height: 32px;\n",
              "      padding: 0 0 0 0;\n",
              "      width: 32px;\n",
              "    }\n",
              "\n",
              "    .colab-df-convert:hover {\n",
              "      background-color: #E2EBFA;\n",
              "      box-shadow: 0px 1px 2px rgba(60, 64, 67, 0.3), 0px 1px 3px 1px rgba(60, 64, 67, 0.15);\n",
              "      fill: #174EA6;\n",
              "    }\n",
              "\n",
              "    [theme=dark] .colab-df-convert {\n",
              "      background-color: #3B4455;\n",
              "      fill: #D2E3FC;\n",
              "    }\n",
              "\n",
              "    [theme=dark] .colab-df-convert:hover {\n",
              "      background-color: #434B5C;\n",
              "      box-shadow: 0px 1px 3px 1px rgba(0, 0, 0, 0.15);\n",
              "      filter: drop-shadow(0px 1px 2px rgba(0, 0, 0, 0.3));\n",
              "      fill: #FFFFFF;\n",
              "    }\n",
              "  </style>\n",
              "\n",
              "      <script>\n",
              "        const buttonEl =\n",
              "          document.querySelector('#df-26595bc5-2d46-4111-b67f-4c5c9b73201a button.colab-df-convert');\n",
              "        buttonEl.style.display =\n",
              "          google.colab.kernel.accessAllowed ? 'block' : 'none';\n",
              "\n",
              "        async function convertToInteractive(key) {\n",
              "          const element = document.querySelector('#df-26595bc5-2d46-4111-b67f-4c5c9b73201a');\n",
              "          const dataTable =\n",
              "            await google.colab.kernel.invokeFunction('convertToInteractive',\n",
              "                                                     [key], {});\n",
              "          if (!dataTable) return;\n",
              "\n",
              "          const docLinkHtml = 'Like what you see? Visit the ' +\n",
              "            '<a target=\"_blank\" href=https://colab.research.google.com/notebooks/data_table.ipynb>data table notebook</a>'\n",
              "            + ' to learn more about interactive tables.';\n",
              "          element.innerHTML = '';\n",
              "          dataTable['output_type'] = 'display_data';\n",
              "          await google.colab.output.renderOutput(dataTable, element);\n",
              "          const docLink = document.createElement('div');\n",
              "          docLink.innerHTML = docLinkHtml;\n",
              "          element.appendChild(docLink);\n",
              "        }\n",
              "      </script>\n",
              "    </div>\n",
              "  </div>\n"
            ]
          },
          "metadata": {},
          "execution_count": 60
        }
      ]
    },
    {
      "cell_type": "code",
      "source": [
        "X = data.loc[:,data.columns != 'species']\n",
        "y = data.loc[:,['species']]"
      ],
      "metadata": {
        "id": "utO221dfRCPS"
      },
      "execution_count": null,
      "outputs": []
    },
    {
      "cell_type": "code",
      "source": [
        "y_enc = LabelEncoder().fit_transform(y)\n",
        "y_label = tf.keras.utils.to_categorical(y_enc)"
      ],
      "metadata": {
        "colab": {
          "base_uri": "https://localhost:8080/"
        },
        "id": "ACI2J-DJROAf",
        "outputId": "857010ea-c37b-4021-d8df-0b4ab1002cc4"
      },
      "execution_count": null,
      "outputs": [
        {
          "output_type": "stream",
          "name": "stderr",
          "text": [
            "/usr/local/lib/python3.10/dist-packages/sklearn/preprocessing/_label.py:116: DataConversionWarning: A column-vector y was passed when a 1d array was expected. Please change the shape of y to (n_samples, ), for example using ravel().\n",
            "  y = column_or_1d(y, warn=True)\n"
          ]
        }
      ]
    },
    {
      "cell_type": "code",
      "source": [
        "X_train, X_test, y_train, y_test = train_test_split(X, y_label, test_size=0.3)"
      ],
      "metadata": {
        "id": "Q6D-BnhINMn9"
      },
      "execution_count": null,
      "outputs": []
    },
    {
      "cell_type": "code",
      "source": [
        "print(f\"Train shape : {X_train.shape}, Y Train : {y_train.shape}\")"
      ],
      "metadata": {
        "colab": {
          "base_uri": "https://localhost:8080/"
        },
        "id": "2ciUNhXnN24i",
        "outputId": "245747e6-0983-4fb0-95e2-094601cb644e"
      },
      "execution_count": null,
      "outputs": [
        {
          "output_type": "stream",
          "name": "stdout",
          "text": [
            "Train shape : (233, 9), Y Train : (233, 3)\n"
          ]
        }
      ]
    },
    {
      "metadata": {
        "trusted": true,
        "id": "LLzf4OAuah8_"
      },
      "cell_type": "code",
      "source": [
        "def get_model():\n",
        "    model = Sequential([\n",
        "        keras.layers.Input(shape=X_train.shape[1:]),\n",
        "        keras.layers.BatchNormalization(),\n",
        "        keras.layers.Dense(500, activation='relu'),\n",
        "        keras.layers.Dense(100, activation='relu'),\n",
        "        keras.layers.Dense(20, activation='relu'),\n",
        "        keras.layers.Dense(3, activation='softmax')\n",
        "    ])\n",
        "    return model"
      ],
      "execution_count": null,
      "outputs": []
    },
    {
      "metadata": {
        "trusted": true,
        "id": "EwYFD-PHah9D"
      },
      "cell_type": "code",
      "source": [
        "model = get_model()\n",
        "\n",
        "model.compile(optimizer='adam',\n",
        "              loss=keras.losses.CategoricalCrossentropy(),\n",
        "             metrics=['accuracy'])"
      ],
      "execution_count": null,
      "outputs": []
    },
    {
      "metadata": {
        "trusted": true,
        "colab": {
          "base_uri": "https://localhost:8080/"
        },
        "id": "e_jI7tenah9B",
        "outputId": "467209a5-7c4b-42e7-81d6-c2dcb0efe3ae"
      },
      "cell_type": "code",
      "source": [
        "model.summary()"
      ],
      "execution_count": null,
      "outputs": [
        {
          "output_type": "stream",
          "name": "stdout",
          "text": [
            "Model: \"sequential_7\"\n",
            "_________________________________________________________________\n",
            " Layer (type)                Output Shape              Param #   \n",
            "=================================================================\n",
            " batch_normalization_7 (Batc  (None, 9)                36        \n",
            " hNormalization)                                                 \n",
            "                                                                 \n",
            " dense_22 (Dense)            (None, 500)               5000      \n",
            "                                                                 \n",
            " dense_23 (Dense)            (None, 100)               50100     \n",
            "                                                                 \n",
            " dense_24 (Dense)            (None, 20)                2020      \n",
            "                                                                 \n",
            " dense_25 (Dense)            (None, 3)                 63        \n",
            "                                                                 \n",
            "=================================================================\n",
            "Total params: 57,219\n",
            "Trainable params: 57,201\n",
            "Non-trainable params: 18\n",
            "_________________________________________________________________\n"
          ]
        }
      ]
    },
    {
      "metadata": {
        "trusted": true,
        "colab": {
          "base_uri": "https://localhost:8080/"
        },
        "id": "-OyVRE3Cah9F",
        "outputId": "8f5b8de7-a39e-4619-f561-cd90695c0cf4"
      },
      "cell_type": "code",
      "source": [
        "history = model.fit(X_train, y_train, epochs=30, validation_data=(X_test, y_test), verbose=1)"
      ],
      "execution_count": null,
      "outputs": [
        {
          "output_type": "stream",
          "name": "stdout",
          "text": [
            "Epoch 1/30\n",
            "8/8 [==============================] - 1s 40ms/step - loss: 0.8830 - accuracy: 0.7425 - val_loss: 5.0820 - val_accuracy: 0.3000\n",
            "Epoch 2/30\n",
            "8/8 [==============================] - 0s 9ms/step - loss: 0.4617 - accuracy: 0.8712 - val_loss: 11.1979 - val_accuracy: 0.3000\n",
            "Epoch 3/30\n",
            "8/8 [==============================] - 0s 9ms/step - loss: 0.1871 - accuracy: 0.9957 - val_loss: 13.7628 - val_accuracy: 0.3000\n",
            "Epoch 4/30\n",
            "8/8 [==============================] - 0s 11ms/step - loss: 0.0773 - accuracy: 0.9957 - val_loss: 13.8499 - val_accuracy: 0.3000\n",
            "Epoch 5/30\n",
            "8/8 [==============================] - 0s 11ms/step - loss: 0.0297 - accuracy: 0.9957 - val_loss: 10.1319 - val_accuracy: 0.3000\n",
            "Epoch 6/30\n",
            "8/8 [==============================] - 0s 9ms/step - loss: 0.0317 - accuracy: 0.9957 - val_loss: 9.3841 - val_accuracy: 0.3000\n",
            "Epoch 7/30\n",
            "8/8 [==============================] - 0s 8ms/step - loss: 0.0137 - accuracy: 0.9957 - val_loss: 8.3189 - val_accuracy: 0.3000\n",
            "Epoch 8/30\n",
            "8/8 [==============================] - 0s 11ms/step - loss: 0.0124 - accuracy: 0.9957 - val_loss: 7.5139 - val_accuracy: 0.3400\n",
            "Epoch 9/30\n",
            "8/8 [==============================] - 0s 9ms/step - loss: 0.0131 - accuracy: 0.9957 - val_loss: 7.1287 - val_accuracy: 0.4700\n",
            "Epoch 10/30\n",
            "8/8 [==============================] - 0s 10ms/step - loss: 0.0199 - accuracy: 0.9957 - val_loss: 6.5136 - val_accuracy: 0.5000\n",
            "Epoch 11/30\n",
            "8/8 [==============================] - 0s 12ms/step - loss: 0.0099 - accuracy: 0.9957 - val_loss: 5.7930 - val_accuracy: 0.5000\n",
            "Epoch 12/30\n",
            "8/8 [==============================] - 0s 12ms/step - loss: 0.0033 - accuracy: 1.0000 - val_loss: 5.2121 - val_accuracy: 0.5000\n",
            "Epoch 13/30\n",
            "8/8 [==============================] - 0s 11ms/step - loss: 0.0053 - accuracy: 1.0000 - val_loss: 4.6240 - val_accuracy: 0.5000\n",
            "Epoch 14/30\n",
            "8/8 [==============================] - 0s 10ms/step - loss: 0.0098 - accuracy: 1.0000 - val_loss: 3.9156 - val_accuracy: 0.5000\n",
            "Epoch 15/30\n",
            "8/8 [==============================] - 0s 10ms/step - loss: 0.0036 - accuracy: 1.0000 - val_loss: 3.0894 - val_accuracy: 0.5000\n",
            "Epoch 16/30\n",
            "8/8 [==============================] - 0s 8ms/step - loss: 0.0259 - accuracy: 0.9871 - val_loss: 2.8909 - val_accuracy: 0.5000\n",
            "Epoch 17/30\n",
            "8/8 [==============================] - 0s 12ms/step - loss: 0.1030 - accuracy: 0.9700 - val_loss: 2.1091 - val_accuracy: 0.5500\n",
            "Epoch 18/30\n",
            "8/8 [==============================] - 0s 8ms/step - loss: 0.0439 - accuracy: 0.9871 - val_loss: 0.7373 - val_accuracy: 0.7500\n",
            "Epoch 19/30\n",
            "8/8 [==============================] - 0s 10ms/step - loss: 0.0299 - accuracy: 0.9914 - val_loss: 1.3201 - val_accuracy: 0.6400\n",
            "Epoch 20/30\n",
            "8/8 [==============================] - 0s 12ms/step - loss: 0.0134 - accuracy: 0.9957 - val_loss: 2.2325 - val_accuracy: 0.5900\n",
            "Epoch 21/30\n",
            "8/8 [==============================] - 0s 11ms/step - loss: 0.0104 - accuracy: 0.9957 - val_loss: 2.3123 - val_accuracy: 0.5900\n",
            "Epoch 22/30\n",
            "8/8 [==============================] - 0s 11ms/step - loss: 0.0211 - accuracy: 0.9914 - val_loss: 1.7007 - val_accuracy: 0.6500\n",
            "Epoch 23/30\n",
            "8/8 [==============================] - 0s 8ms/step - loss: 0.0137 - accuracy: 0.9957 - val_loss: 1.0253 - val_accuracy: 0.7100\n",
            "Epoch 24/30\n",
            "8/8 [==============================] - 0s 10ms/step - loss: 0.0193 - accuracy: 0.9914 - val_loss: 0.5597 - val_accuracy: 0.8400\n",
            "Epoch 25/30\n",
            "8/8 [==============================] - 0s 9ms/step - loss: 0.0025 - accuracy: 1.0000 - val_loss: 0.3655 - val_accuracy: 0.8900\n",
            "Epoch 26/30\n",
            "8/8 [==============================] - 0s 10ms/step - loss: 0.0045 - accuracy: 1.0000 - val_loss: 0.2690 - val_accuracy: 0.9200\n",
            "Epoch 27/30\n",
            "8/8 [==============================] - 0s 9ms/step - loss: 0.0042 - accuracy: 1.0000 - val_loss: 0.2249 - val_accuracy: 0.9300\n",
            "Epoch 28/30\n",
            "8/8 [==============================] - 0s 10ms/step - loss: 0.0042 - accuracy: 1.0000 - val_loss: 0.1968 - val_accuracy: 0.9500\n",
            "Epoch 29/30\n",
            "8/8 [==============================] - 0s 9ms/step - loss: 0.0054 - accuracy: 1.0000 - val_loss: 0.1950 - val_accuracy: 0.9500\n",
            "Epoch 30/30\n",
            "8/8 [==============================] - 0s 9ms/step - loss: 0.0083 - accuracy: 0.9957 - val_loss: 0.1398 - val_accuracy: 0.9600\n"
          ]
        }
      ]
    },
    {
      "metadata": {
        "trusted": true,
        "colab": {
          "base_uri": "https://localhost:8080/"
        },
        "id": "EhaVMT2Dah9H",
        "outputId": "f3479c4c-e018-4b23-dfa8-b46e50b85d29"
      },
      "cell_type": "code",
      "source": [
        "model.evaluate(X_test, y_test)"
      ],
      "execution_count": null,
      "outputs": [
        {
          "output_type": "stream",
          "name": "stdout",
          "text": [
            "4/4 [==============================] - 0s 4ms/step - loss: 0.1398 - accuracy: 0.9600\n"
          ]
        },
        {
          "output_type": "execute_result",
          "data": {
            "text/plain": [
              "[0.13977031409740448, 0.9599999785423279]"
            ]
          },
          "metadata": {},
          "execution_count": 102
        }
      ]
    },
    {
      "metadata": {
        "id": "HyP0u_GJah9I"
      },
      "cell_type": "markdown",
      "source": [
        "## Performance Monitor"
      ]
    },
    {
      "metadata": {
        "trusted": true,
        "id": "JUq4vJycah9K",
        "colab": {
          "base_uri": "https://localhost:8080/",
          "height": 528
        },
        "outputId": "7904d50c-f2e6-4c61-bb50-2408da82efb6"
      },
      "cell_type": "code",
      "source": [
        "pd.DataFrame(history.history).plot(figsize=(10,6))\n",
        "plt.grid(True)\n",
        "plt.gca().set_ylim(0, 1)\n",
        "plt.show()"
      ],
      "execution_count": null,
      "outputs": [
        {
          "output_type": "display_data",
          "data": {
            "text/plain": [
              "<Figure size 1000x600 with 1 Axes>"
            ],
            "image/png": "[encoded data removed]"
          },
          "metadata": {}
        }
      ]
    }
  ]
}