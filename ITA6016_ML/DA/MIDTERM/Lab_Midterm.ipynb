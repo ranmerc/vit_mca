{
  "nbformat": 4,
  "nbformat_minor": 0,
  "metadata": {
    "colab": {
      "provenance": []
    },
    "kernelspec": {
      "name": "python3",
      "display_name": "Python 3"
    },
    "language_info": {
      "name": "python"
    }
  },
  "cells": [
    {
      "cell_type": "markdown",
      "source": [
        "**NAME:** KAMRAN ANSARI\n",
        "\n",
        "**REG NO:** 22MCA0223\n",
        "\n",
        "**QUESTION:** 3"
      ],
      "metadata": {
        "id": "BhEOsQZeLzR9"
      }
    },
    {
      "cell_type": "code",
      "source": [
        "import tensorflow as tf\n",
        "import numpy as np"
      ],
      "metadata": {
        "id": "hWN1440yLzJt"
      },
      "execution_count": null,
      "outputs": []
    },
    {
      "cell_type": "code",
      "source": [
        "X1 = tf.Variable(initial_value=[0.,1.,0.,0.,1.,0.,1.,1.])\n",
        "X2 = tf.Variable(initial_value=[0.,0.,1.,0.,1.,1.,0.,1.])\n",
        "X3 = tf.Variable(initial_value=[0.,0.,0.,1.,0.,1.,1.,1.])\n",
        "\n",
        "Y_3NAND = tf.Variable(initial_value=[1.,1.,1.,1.,1.,1.,1.,0.])"
      ],
      "metadata": {
        "id": "8263OiseMM9u"
      },
      "execution_count": null,
      "outputs": []
    },
    {
      "cell_type": "code",
      "source": [
        "def None_to_Zero(v):\n",
        "  res = []\n",
        "  for i in v:\n",
        "    if i == None:\n",
        "      res.append(0.)\n",
        "    else:\n",
        "      res.append(i)\n",
        "  return tuple(res)"
      ],
      "metadata": {
        "id": "zh_I8C0YNQwx"
      },
      "execution_count": null,
      "outputs": []
    },
    {
      "cell_type": "code",
      "source": [
        "def compute_cost(target_y, predicted_y):\n",
        "    c = tf.keras.losses.BinaryCrossentropy()\n",
        "    return(c(target_y,predicted_y))"
      ],
      "metadata": {
        "id": "N0G0pb4nN9bI"
      },
      "execution_count": null,
      "outputs": []
    },
    {
      "cell_type": "code",
      "source": [
        "class Model(object):\n",
        "\n",
        "   def __init__(self):\n",
        "        self.W1 = tf.Variable(tf.random.normal([1]))\n",
        "        self.W2= tf.Variable(tf.random.normal([1]))\n",
        "        self.W3 = tf.Variable(tf.random.normal([1]))\n",
        "        self.b = tf.Variable(tf.random.normal([1]))\n",
        "\n",
        "   def __call__(self, x1, x2, x3):\n",
        "        self.K1 = self.W1 * x1 + self.W2 * x2 + self.W3 * x3 + self.b\n",
        "        self.Output = tf.keras.activations.sigmoid(self.K1)\n",
        "        return(self.Output)\n",
        "\n",
        "model = Model()"
      ],
      "metadata": {
        "id": "PqBnyn60MyRU"
      },
      "execution_count": null,
      "outputs": []
    },
    {
      "cell_type": "code",
      "source": [
        "def train(model, X1, X2, X3, Y2, learning_rate):\n",
        "    with tf.GradientTape() as t:\n",
        "            current_loss = compute_cost(Y2,model(X1,X2,X3))\n",
        "\n",
        "    dW1, dW2, dW3, db = None_to_Zero(t.gradient(current_loss,[model.W1,model.W2,model.W3,model.b]))\n",
        "\n",
        "    model.W1.assign_sub(learning_rate * dW1)\n",
        "    model.b.assign_sub(learning_rate * db)\n",
        "    model.W2.assign_sub(learning_rate * dW2)\n",
        "    model.W3.assign_sub(learning_rate * dW3)"
      ],
      "metadata": {
        "id": "FuXBObLnNAnX"
      },
      "execution_count": null,
      "outputs": []
    },
    {
      "cell_type": "code",
      "source": [
        "epochs = range(600)\n",
        "\n",
        "learning_rate = 0.3\n",
        "\n",
        "for epoch in epochs:\n",
        "    train(model, X1, X2, X3, Y_3NAND, learning_rate)"
      ],
      "metadata": {
        "id": "WR-TdjNpNs2e"
      },
      "execution_count": null,
      "outputs": []
    },
    {
      "cell_type": "code",
      "source": [
        "print(\"Model output after training:\")\n",
        "print(np.round(model(X1, X2, X3).numpy()))\n",
        "\n",
        "print(\"\");\n",
        "\n",
        "W_3NAND = {'W1':model.W1.numpy(),'W2':model.W2.numpy(),'W3':model.W3.numpy(),'b':model.b.numpy()}\n",
        "\n",
        "print(\"Model Weights:\")\n",
        "print(\"W1: \", model.W1.numpy())\n",
        "print(\"W2: \", model.W2.numpy())\n",
        "print(\"b: \", model.b.numpy())"
      ],
      "metadata": {
        "colab": {
          "base_uri": "https://localhost:8080/"
        },
        "id": "6dr5jplUPI4Q",
        "outputId": "83cbc4e0-dd91-4c8c-c9d9-092c9b8423ed"
      },
      "execution_count": null,
      "outputs": [
        {
          "output_type": "stream",
          "name": "stdout",
          "text": [
            "Model output after training:\n",
            "[1. 1. 1. 1. 1. 1. 1. 0.]\n",
            "\n",
            "Model Weights:\n",
            "W1:  [-2.2071152]\n",
            "W2:  [-2.237106]\n",
            "b:  [6.171999]\n"
          ]
        }
      ]
    },
    {
      "cell_type": "code",
      "source": [
        "import pandas as pd\n",
        "\n",
        "data = pd.read_csv('diabetes.csv')"
      ],
      "metadata": {
        "id": "x43-GoH0S4Xw"
      },
      "execution_count": null,
      "outputs": []
    },
    {
      "cell_type": "code",
      "source": [
        "data.head()\n"
      ],
      "metadata": {
        "colab": {
          "base_uri": "https://localhost:8080/",
          "height": 270
        },
        "id": "dGC3I2tHTYCy",
        "outputId": "880b1df9-5403-4636-9349-03f1ed82c317"
      },
      "execution_count": null,
      "outputs": [
        {
          "output_type": "execute_result",
          "data": {
            "text/plain": [
              "   Pregnant  Plasma_glucose  Diastolic  Triceps  Insulin   Bmi  Pedigree  Age  \\\n",
              "0         6             148         72       35        0  33.6     0.627   50   \n",
              "1         1              85         66       29        0  26.6     0.351   31   \n",
              "2         8             183         64        0        0  23.3     0.672   32   \n",
              "3         1              89         66       23       94  28.1     0.167   21   \n",
              "4         0             137         40       35      168  43.1     2.288   33   \n",
              "\n",
              "   Class  \n",
              "0      1  \n",
              "1      0  \n",
              "2      1  \n",
              "3      0  \n",
              "4      1  "
            ],
            "text/html": [
              "\n",
              "\n",
              "  <div id=\"df-2036f979-0c07-4a82-a5a4-07c9d528590a\">\n",
              "    <div class=\"colab-df-container\">\n",
              "      <div>\n",
              "<style scoped>\n",
              "    .dataframe tbody tr th:only-of-type {\n",
              "        vertical-align: middle;\n",
              "    }\n",
              "\n",
              "    .dataframe tbody tr th {\n",
              "        vertical-align: top;\n",
              "    }\n",
              "\n",
              "    .dataframe thead th {\n",
              "        text-align: right;\n",
              "    }\n",
              "</style>\n",
              "<table border=\"1\" class=\"dataframe\">\n",
              "  <thead>\n",
              "    <tr style=\"text-align: right;\">\n",
              "      <th></th>\n",
              "      <th>Pregnant</th>\n",
              "      <th>Plasma_glucose</th>\n",
              "      <th>Diastolic</th>\n",
              "      <th>Triceps</th>\n",
              "      <th>Insulin</th>\n",
              "      <th>Bmi</th>\n",
              "      <th>Pedigree</th>\n",
              "      <th>Age</th>\n",
              "      <th>Class</th>\n",
              "    </tr>\n",
              "  </thead>\n",
              "  <tbody>\n",
              "    <tr>\n",
              "      <th>0</th>\n",
              "      <td>6</td>\n",
              "      <td>148</td>\n",
              "      <td>72</td>\n",
              "      <td>35</td>\n",
              "      <td>0</td>\n",
              "      <td>33.6</td>\n",
              "      <td>0.627</td>\n",
              "      <td>50</td>\n",
              "      <td>1</td>\n",
              "    </tr>\n",
              "    <tr>\n",
              "      <th>1</th>\n",
              "      <td>1</td>\n",
              "      <td>85</td>\n",
              "      <td>66</td>\n",
              "      <td>29</td>\n",
              "      <td>0</td>\n",
              "      <td>26.6</td>\n",
              "      <td>0.351</td>\n",
              "      <td>31</td>\n",
              "      <td>0</td>\n",
              "    </tr>\n",
              "    <tr>\n",
              "      <th>2</th>\n",
              "      <td>8</td>\n",
              "      <td>183</td>\n",
              "      <td>64</td>\n",
              "      <td>0</td>\n",
              "      <td>0</td>\n",
              "      <td>23.3</td>\n",
              "      <td>0.672</td>\n",
              "      <td>32</td>\n",
              "      <td>1</td>\n",
              "    </tr>\n",
              "    <tr>\n",
              "      <th>3</th>\n",
              "      <td>1</td>\n",
              "      <td>89</td>\n",
              "      <td>66</td>\n",
              "      <td>23</td>\n",
              "      <td>94</td>\n",
              "      <td>28.1</td>\n",
              "      <td>0.167</td>\n",
              "      <td>21</td>\n",
              "      <td>0</td>\n",
              "    </tr>\n",
              "    <tr>\n",
              "      <th>4</th>\n",
              "      <td>0</td>\n",
              "      <td>137</td>\n",
              "      <td>40</td>\n",
              "      <td>35</td>\n",
              "      <td>168</td>\n",
              "      <td>43.1</td>\n",
              "      <td>2.288</td>\n",
              "      <td>33</td>\n",
              "      <td>1</td>\n",
              "    </tr>\n",
              "  </tbody>\n",
              "</table>\n",
              "</div>\n",
              "      <button class=\"colab-df-convert\" onclick=\"convertToInteractive('df-2036f979-0c07-4a82-a5a4-07c9d528590a')\"\n",
              "              title=\"Convert this dataframe to an interactive table.\"\n",
              "              style=\"display:none;\">\n",
              "\n",
              "  <svg xmlns=\"http://www.w3.org/2000/svg\" height=\"24px\"viewBox=\"0 0 24 24\"\n",
              "       width=\"24px\">\n",
              "    <path d=\"M0 0h24v24H0V0z\" fill=\"none\"/>\n",
              "    <path d=\"M18.56 5.44l.94 2.06.94-2.06 2.06-.94-2.06-.94-.94-2.06-.94 2.06-2.06.94zm-11 1L8.5 8.5l.94-2.06 2.06-.94-2.06-.94L8.5 2.5l-.94 2.06-2.06.94zm10 10l.94 2.06.94-2.06 2.06-.94-2.06-.94-.94-2.06-.94 2.06-2.06.94z\"/><path d=\"M17.41 7.96l-1.37-1.37c-.4-.4-.92-.59-1.43-.59-.52 0-1.04.2-1.43.59L10.3 9.45l-7.72 7.72c-.78.78-.78 2.05 0 2.83L4 21.41c.39.39.9.59 1.41.59.51 0 1.02-.2 1.41-.59l7.78-7.78 2.81-2.81c.8-.78.8-2.07 0-2.86zM5.41 20L4 18.59l7.72-7.72 1.47 1.35L5.41 20z\"/>\n",
              "  </svg>\n",
              "      </button>\n",
              "\n",
              "\n",
              "\n",
              "    <div id=\"df-4f9ca982-068c-4e88-b77a-52131b856d14\">\n",
              "      <button class=\"colab-df-quickchart\" onclick=\"quickchart('df-4f9ca982-068c-4e88-b77a-52131b856d14')\"\n",
              "              title=\"Suggest charts.\"\n",
              "              style=\"display:none;\">\n",
              "\n",
              "<svg xmlns=\"http://www.w3.org/2000/svg\" height=\"24px\"viewBox=\"0 0 24 24\"\n",
              "     width=\"24px\">\n",
              "    <g>\n",
              "        <path d=\"M19 3H5c-1.1 0-2 .9-2 2v14c0 1.1.9 2 2 2h14c1.1 0 2-.9 2-2V5c0-1.1-.9-2-2-2zM9 17H7v-7h2v7zm4 0h-2V7h2v10zm4 0h-2v-4h2v4z\"/>\n",
              "    </g>\n",
              "</svg>\n",
              "      </button>\n",
              "    </div>\n",
              "\n",
              "<style>\n",
              "  .colab-df-quickchart {\n",
              "    background-color: #E8F0FE;\n",
              "    border: none;\n",
              "    border-radius: 50%;\n",
              "    cursor: pointer;\n",
              "    display: none;\n",
              "    fill: #1967D2;\n",
              "    height: 32px;\n",
              "    padding: 0 0 0 0;\n",
              "    width: 32px;\n",
              "  }\n",
              "\n",
              "  .colab-df-quickchart:hover {\n",
              "    background-color: #E2EBFA;\n",
              "    box-shadow: 0px 1px 2px rgba(60, 64, 67, 0.3), 0px 1px 3px 1px rgba(60, 64, 67, 0.15);\n",
              "    fill: #174EA6;\n",
              "  }\n",
              "\n",
              "  [theme=dark] .colab-df-quickchart {\n",
              "    background-color: #3B4455;\n",
              "    fill: #D2E3FC;\n",
              "  }\n",
              "\n",
              "  [theme=dark] .colab-df-quickchart:hover {\n",
              "    background-color: #434B5C;\n",
              "    box-shadow: 0px 1px 3px 1px rgba(0, 0, 0, 0.15);\n",
              "    filter: drop-shadow(0px 1px 2px rgba(0, 0, 0, 0.3));\n",
              "    fill: #FFFFFF;\n",
              "  }\n",
              "</style>\n",
              "\n",
              "    <script>\n",
              "      async function quickchart(key) {\n",
              "        const containerElement = document.querySelector('#' + key);\n",
              "        const charts = await google.colab.kernel.invokeFunction(\n",
              "            'suggestCharts', [key], {});\n",
              "      }\n",
              "    </script>\n",
              "\n",
              "      <script>\n",
              "\n",
              "function displayQuickchartButton(domScope) {\n",
              "  let quickchartButtonEl =\n",
              "    domScope.querySelector('#df-4f9ca982-068c-4e88-b77a-52131b856d14 button.colab-df-quickchart');\n",
              "  quickchartButtonEl.style.display =\n",
              "    google.colab.kernel.accessAllowed ? 'block' : 'none';\n",
              "}\n",
              "\n",
              "        displayQuickchartButton(document);\n",
              "      </script>\n",
              "      <style>\n",
              "    .colab-df-container {\n",
              "      display:flex;\n",
              "      flex-wrap:wrap;\n",
              "      gap: 12px;\n",
              "    }\n",
              "\n",
              "    .colab-df-convert {\n",
              "      background-color: #E8F0FE;\n",
              "      border: none;\n",
              "      border-radius: 50%;\n",
              "      cursor: pointer;\n",
              "      display: none;\n",
              "      fill: #1967D2;\n",
              "      height: 32px;\n",
              "      padding: 0 0 0 0;\n",
              "      width: 32px;\n",
              "    }\n",
              "\n",
              "    .colab-df-convert:hover {\n",
              "      background-color: #E2EBFA;\n",
              "      box-shadow: 0px 1px 2px rgba(60, 64, 67, 0.3), 0px 1px 3px 1px rgba(60, 64, 67, 0.15);\n",
              "      fill: #174EA6;\n",
              "    }\n",
              "\n",
              "    [theme=dark] .colab-df-convert {\n",
              "      background-color: #3B4455;\n",
              "      fill: #D2E3FC;\n",
              "    }\n",
              "\n",
              "    [theme=dark] .colab-df-convert:hover {\n",
              "      background-color: #434B5C;\n",
              "      box-shadow: 0px 1px 3px 1px rgba(0, 0, 0, 0.15);\n",
              "      filter: drop-shadow(0px 1px 2px rgba(0, 0, 0, 0.3));\n",
              "      fill: #FFFFFF;\n",
              "    }\n",
              "  </style>\n",
              "\n",
              "      <script>\n",
              "        const buttonEl =\n",
              "          document.querySelector('#df-2036f979-0c07-4a82-a5a4-07c9d528590a button.colab-df-convert');\n",
              "        buttonEl.style.display =\n",
              "          google.colab.kernel.accessAllowed ? 'block' : 'none';\n",
              "\n",
              "        async function convertToInteractive(key) {\n",
              "          const element = document.querySelector('#df-2036f979-0c07-4a82-a5a4-07c9d528590a');\n",
              "          const dataTable =\n",
              "            await google.colab.kernel.invokeFunction('convertToInteractive',\n",
              "                                                     [key], {});\n",
              "          if (!dataTable) return;\n",
              "\n",
              "          const docLinkHtml = 'Like what you see? Visit the ' +\n",
              "            '<a target=\"_blank\" href=https://colab.research.google.com/notebooks/data_table.ipynb>data table notebook</a>'\n",
              "            + ' to learn more about interactive tables.';\n",
              "          element.innerHTML = '';\n",
              "          dataTable['output_type'] = 'display_data';\n",
              "          await google.colab.output.renderOutput(dataTable, element);\n",
              "          const docLink = document.createElement('div');\n",
              "          docLink.innerHTML = docLinkHtml;\n",
              "          element.appendChild(docLink);\n",
              "        }\n",
              "      </script>\n",
              "    </div>\n",
              "  </div>\n"
            ]
          },
          "metadata": {},
          "execution_count": 140
        }
      ]
    },
    {
      "cell_type": "code",
      "source": [
        "data.shape"
      ],
      "metadata": {
        "id": "UTygJ9lIVm5G",
        "outputId": "fbcb2b8d-74fb-425d-bf84-ca759650e4e3",
        "colab": {
          "base_uri": "https://localhost:8080/"
        }
      },
      "execution_count": null,
      "outputs": [
        {
          "output_type": "execute_result",
          "data": {
            "text/plain": [
              "(768, 9)"
            ]
          },
          "metadata": {},
          "execution_count": 141
        }
      ]
    },
    {
      "cell_type": "code",
      "source": [
        "data = data[data.Plasma_glucose != 0]\n",
        "data = data[data.Diastolic != 0]\n",
        "data = data[data.Triceps != 0]\n",
        "data = data[data.Insulin != 0]\n",
        "data = data[data.Bmi != 0]\n",
        "data = data[data.Pedigree != 0]\n",
        "data = data[data.Age != 0]"
      ],
      "metadata": {
        "id": "Z-7VF3_FThBq"
      },
      "execution_count": null,
      "outputs": []
    },
    {
      "cell_type": "code",
      "source": [
        "data.shape"
      ],
      "metadata": {
        "colab": {
          "base_uri": "https://localhost:8080/"
        },
        "id": "cDdUTYzuUjG0",
        "outputId": "824bddeb-e999-4a74-f44b-fa899eb237db"
      },
      "execution_count": null,
      "outputs": [
        {
          "output_type": "execute_result",
          "data": {
            "text/plain": [
              "(392, 9)"
            ]
          },
          "metadata": {},
          "execution_count": 143
        }
      ]
    },
    {
      "cell_type": "code",
      "source": [
        "# importing alll the necessary packages to use the various classification algorithms\n",
        "from sklearn.model_selection import train_test_split # to split the dataset for training and testing\n",
        "from sklearn import metrics # for checking the model accuracy\n",
        "\n",
        "train, test = train_test_split(data, test_size=0.3)"
      ],
      "metadata": {
        "id": "alQ5f81kVELm"
      },
      "execution_count": null,
      "outputs": []
    },
    {
      "cell_type": "code",
      "source": [
        "train_X = train[['Plasma_glucose','Diastolic','Triceps','Insulin', 'Bmi', 'Pedigree', 'Age']] # taking the training data features\n",
        "train_y = train.Class # output of the training data\n",
        "\n",
        "test_X = test[['Plasma_glucose','Diastolic','Triceps','Insulin', 'Bmi', 'Pedigree', 'Age']] # taking test data feature\n",
        "test_y = test.Class # output value of the test data"
      ],
      "metadata": {
        "id": "U0orlxq9Vgxw"
      },
      "execution_count": null,
      "outputs": []
    },
    {
      "cell_type": "code",
      "source": [
        "# Linear data helps\n",
        "from sklearn.linear_model import LogisticRegression # for Logistic Regression Algorithm\n",
        "# default will run for 100 iterations\n",
        "model1 = LogisticRegression(random_state=0, max_iter=1000)\n",
        "\n",
        "# we train the algorithm with training data and training output\n",
        "model1.fit(train_X, train_y)\n",
        "\n",
        "# we pass the testing data to the stored algorithm to predict the outcome\n",
        "prediction1 = model1.predict(test_X)\n",
        "print('The accuracy of the Logistic Regression is: ', metrics.accuracy_score(prediction1, test_y)) # we check the accuracy of the algorithm\n",
        "#we pass the predicted output by the model and the actual output"
      ],
      "metadata": {
        "colab": {
          "base_uri": "https://localhost:8080/"
        },
        "id": "vsMPrZOpVVM_",
        "outputId": "14a5e3b3-b1ea-4ebc-8729-e73b1e2a9fc2"
      },
      "execution_count": null,
      "outputs": [
        {
          "output_type": "stream",
          "name": "stdout",
          "text": [
            "The accuracy of the Logistic Regression is:  0.7711864406779662\n"
          ]
        }
      ]
    },
    {
      "cell_type": "code",
      "source": [
        "from sklearn import svm # for suport vector machine algorithm\n",
        "#Try all kernals ‘linear’, ‘poly’, ‘rbf’, ‘sigmoid’, ‘precomputed’\n",
        "model4 = svm.SVC(kernel='linear') # select the svm algorithm\n",
        "\n",
        "# we train the algorithm with training data and training output\n",
        "model4.fit(train_X, train_y)\n",
        "\n",
        "# we pass the testing data to the stored algorithm to predict the outcome\n",
        "prediction4 = model4.predict(test_X)\n",
        "print('The accuracy of the SVM is: ', metrics.accuracy_score(prediction4, test_y)) # we check the accuracy of the algorithm\n",
        "#we pass the predicted output by the model and the actual output"
      ],
      "metadata": {
        "colab": {
          "base_uri": "https://localhost:8080/"
        },
        "id": "VoFrbtvbV75h",
        "outputId": "710fadec-65c2-4f87-bd5c-cd56a6f62aee"
      },
      "execution_count": null,
      "outputs": [
        {
          "output_type": "stream",
          "name": "stdout",
          "text": [
            "The accuracy of the SVM is:  0.7372881355932204\n"
          ]
        }
      ]
    },
    {
      "cell_type": "code",
      "source": [
        "from sklearn.neighbors import KNeighborsClassifier # KNN classifier\n",
        "model3 = KNeighborsClassifier()\n",
        "\n",
        "# we train the algorithm with training data and training output\n",
        "model3.fit(train_X, train_y)\n",
        "\n",
        "# we pass the testing data to the stored algorithm to predict the outcome\n",
        "prediction3 = model3.predict(test_X)\n",
        "print('The accuracy of the K-Neighbors Classifier is: ', metrics.accuracy_score(prediction3, test_y)) # we check the accuracy of the algorithm\n",
        "#we pass the predicted output by the model and the actual output"
      ],
      "metadata": {
        "colab": {
          "base_uri": "https://localhost:8080/"
        },
        "id": "mFT14aSNWQPJ",
        "outputId": "b5f09b05-7e28-42a3-ebf1-c57f7b82d955"
      },
      "execution_count": null,
      "outputs": [
        {
          "output_type": "stream",
          "name": "stdout",
          "text": [
            "The accuracy of the K-Neighbors Classifier is:  0.7542372881355932\n"
          ]
        }
      ]
    },
    {
      "cell_type": "code",
      "source": [
        "from sklearn.tree import DecisionTreeClassifier # for using DTA\n",
        "model2 = DecisionTreeClassifier()\n",
        "\n",
        "# we train the algorithm with training data and training output\n",
        "model2.fit(train_X, train_y)\n",
        "\n",
        "# we pass the testing data to the stored algorithm to predict the outcome\n",
        "prediction2 = model2.predict(test_X)\n",
        "print('The accuracy of the Decision Tree Classifier is: ', metrics.accuracy_score(prediction2, test_y)) # we check the accuracy of the algorithm\n",
        "#we pass the predicted output by the model and the actual output"
      ],
      "metadata": {
        "id": "FgLXB9NbWSi5",
        "outputId": "c20187d7-8c74-4c60-b7a7-9eb8aea427ab",
        "colab": {
          "base_uri": "https://localhost:8080/"
        }
      },
      "execution_count": null,
      "outputs": [
        {
          "output_type": "stream",
          "name": "stdout",
          "text": [
            "The accuracy of the Decision Tree Classifier is:  0.788135593220339\n"
          ]
        }
      ]
    }
  ]
}